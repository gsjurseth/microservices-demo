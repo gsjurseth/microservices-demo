{
 "cells": [
  {
   "cell_type": "code",
   "execution_count": 5,
   "metadata": {},
   "outputs": [
    {
     "name": "stdout",
     "output_type": "stream",
     "text": [
      "env: kubectl=/Users/gsjurseth/GoogleShtuff/google-cloud-sdk/bin/kubectl\n",
      "env: istio=/Users/gsjurseth/istio-1.0.2\n",
      "env: istioctl=/Users/gsjurseth/istio-1.0.2/bin/istioctl\n",
      "env: ingress=35.225.166.160\n",
      "env: demo=/Users/gsjurseth/dev/fazio/microservices-demo\n"
     ]
    }
   ],
   "source": [
    "%env kubectl=/Users/gsjurseth/GoogleShtuff/google-cloud-sdk/bin/kubectl\n",
    "%env istio=/Users/gsjurseth/istio-1.0.2\n",
    "%env istioctl=/Users/gsjurseth/istio-1.0.2/bin/istioctl\n",
    "%env ingress=35.225.166.160\n",
    "%env demo=/Users/gsjurseth/dev/fazio/microservices-demo"
   ]
  },
  {
   "cell_type": "markdown",
   "metadata": {},
   "source": [
    "---\n",
    "## Fazio Retail Shop UI\n",
    "\n",
    "http://35.225.166.160/\n",
    "\n",
    "\n",
    "Let's look at the running pods"
   ]
  },
  {
   "cell_type": "code",
   "execution_count": 8,
   "metadata": {},
   "outputs": [
    {
     "name": "stdout",
     "output_type": "stream",
     "text": [
      "NAME                                     READY     STATUS    RESTARTS   AGE\n",
      "adservice-5d675685b8-9jhkm               2/2       Running   3          17h\n",
      "cartservice-8bb8f9765-52qns              2/2       Running   1          4m\n",
      "checkoutservice-b59f668d-pltpv           2/2       Running   0          4m\n",
      "currencyservice-698dc97c58-m9zhd         2/2       Running   0          17h\n",
      "emailservice-58889ffc99-kjd8m            2/2       Running   0          17h\n",
      "frontend-6bd5bbdc8-b2dm6                 2/2       Running   7          16h\n",
      "frontend-blue-77d79ccd7b-6pdmd           1/2       Running   7          16h\n",
      "helloworld-v1-6b95bf6cb7-65dwh           2/2       Running   0          4m\n",
      "helloworld-v2-56f48bd97c-48jtk           2/2       Running   0          1d\n",
      "loadgenerator-56688f94c9-p7n28           2/2       Running   0          17h\n",
      "paymentservice-57b94c8564-r9c4w          2/2       Running   0          17h\n",
      "productcatalogservice-5486857ddb-lmbf4   2/2       Running   0          17h\n",
      "recommendationservice-6c958f78c6-646wf   2/2       Running   0          17h\n",
      "redis-cart-6dd776d76-msjl7               2/2       Running   0          2d\n",
      "shipping-6b8455dbf6-6hp2h                2/2       Running   0          4m\n",
      "shippingservice-f4cd6f7d4-m9clb          2/2       Running   0          16h\n"
     ]
    }
   ],
   "source": [
    "!$kubectl get pods"
   ]
  },
  {
   "cell_type": "markdown",
   "metadata": {},
   "source": [
    "---\n",
    "## Architectural Diagram\n",
    "\n",
    "![architecture](https://raw.githubusercontent.com/theganyo/microservices-demo/fazio-playground/img/architecture-diagram.jpeg)"
   ]
  },
  {
   "cell_type": "markdown",
   "metadata": {},
   "source": [
    "---\n",
    "## I've heard that blue is hip color!\n",
    "\n",
    "But is it really? Let's canary test a blue front-end. We'll route 20% of traffic to the blue version."
   ]
  },
  {
   "cell_type": "code",
   "execution_count": 9,
   "metadata": {},
   "outputs": [
    {
     "name": "stdout",
     "output_type": "stream",
     "text": [
      "virtualservice.networking.istio.io \"frontend-ingress\" configured\n"
     ]
    }
   ],
   "source": [
    "%%bash\n",
    "cat <<EOF | $kubectl apply -f -\n",
    "\n",
    "apiVersion: networking.istio.io/v1alpha3\n",
    "kind: VirtualService\n",
    "metadata:\n",
    "  name: frontend-ingress\n",
    "spec:\n",
    "  gateways:\n",
    "  - frontend-gateway\n",
    "  hosts:\n",
    "  - '*'\n",
    "  http:\n",
    "  - route:\n",
    "    - destination:\n",
    "        host: frontend\n",
    "        subset: grey\n",
    "      weight: 80\n",
    "    - destination:\n",
    "        host: frontend\n",
    "        subset: blue\n",
    "      weight: 20\n",
    "\n",
    "EOF"
   ]
  },
  {
   "cell_type": "markdown",
   "metadata": {},
   "source": [
    "---\n",
    "## It turns out, customers prefer grey.\n",
    "\n",
    "Let's revert that change."
   ]
  },
  {
   "cell_type": "code",
   "execution_count": 10,
   "metadata": {},
   "outputs": [
    {
     "name": "stdout",
     "output_type": "stream",
     "text": [
      "virtualservice.networking.istio.io \"frontend-ingress\" configured\n"
     ]
    }
   ],
   "source": [
    "%%bash\n",
    "cat <<EOF | $kubectl apply -f -\n",
    "\n",
    "apiVersion: networking.istio.io/v1alpha3\n",
    "kind: VirtualService\n",
    "metadata:\n",
    "  name: frontend-ingress\n",
    "spec:\n",
    "  gateways:\n",
    "  - frontend-gateway\n",
    "  hosts:\n",
    "  - '*'\n",
    "  http:\n",
    "  - route:\n",
    "    - destination:\n",
    "        host: frontend\n",
    "        subset: grey\n",
    "      weight: 100\n",
    "\n",
    "EOF"
   ]
  },
  {
   "cell_type": "markdown",
   "metadata": {},
   "source": [
    "---\n",
    "## Jaeger UI\n",
    "\n",
    "Run in console:\n",
    "\n",
    "    kubectl port-forward -n istio-system $(kubectl get pod -n istio-system -l app=jaeger -o jsonpath='{.items[0].metadata.name}') 16686:16686 &\n",
    "    \n",
    "http://localhost:16686/search?service=emailservice"
   ]
  },
  {
   "cell_type": "markdown",
   "metadata": {},
   "source": [
    "---\n",
    "## Grafana UI\n",
    "\n",
    "Run in console:\n",
    "\n",
    "    kubectl -n istio-system port-forward $(kubectl -n istio-system get pod -l app=grafana -o jsonpath='{.items[0].metadata.name}') 3000:3000 &\n",
    "    \n",
    "http://localhost:3000/d/3/pilot-dashboard"
   ]
  }
 ],
 "metadata": {
  "kernelspec": {
   "display_name": "Python 3",
   "language": "python",
   "name": "python3"
  },
  "language_info": {
   "codemirror_mode": {
    "name": "ipython",
    "version": 3
   },
   "file_extension": ".py",
   "mimetype": "text/x-python",
   "name": "python",
   "nbconvert_exporter": "python",
   "pygments_lexer": "ipython3",
   "version": "3.6.4"
  }
 },
 "nbformat": 4,
 "nbformat_minor": 2
}
