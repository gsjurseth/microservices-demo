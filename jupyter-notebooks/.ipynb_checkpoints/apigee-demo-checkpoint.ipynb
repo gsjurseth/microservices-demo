{
 "cells": [
  {
   "cell_type": "code",
   "execution_count": null,
   "metadata": {},
   "outputs": [],
   "source": [
    "%env kubectl=/Users/gsjurseth/GoogleShtuff/google-cloud-sdk/bin/kubectl\n",
    "%env istio=/Users/gsjurseth/istio-1.0.2\n",
    "%env istioctl=/Users/gsjurseth/istio-1.0.2/bin/istioctl\n",
    "%env ingress=35.225.166.160\n",
    "%env demo=/Users/gsjurseth/dev/fazio/microservices-demo\n",
    "%env apigee-istio=/Users/gsjurseth/istio/apigee-istio\n",
    "%env mypass=`dapass`"
   ]
  },
  {
   "cell_type": "markdown",
   "metadata": {},
   "source": [
    "---\n",
    "## Expose the tracking api"
   ]
  },
  {
   "cell_type": "code",
   "execution_count": null,
   "metadata": {},
   "outputs": [],
   "source": [
    "%%bash\n",
    "cat <<EOF | $kubectl apply -f -\n",
    "\n",
    "apiVersion: networking.istio.io/v1alpha3\n",
    "kind: VirtualService\n",
    "metadata:\n",
    "  annotations:\n",
    "  name: frontend-ingress\n",
    "  namespace: default\n",
    "spec:\n",
    "  gateways:\n",
    "  - frontend-gateway\n",
    "  hosts:\n",
    "  - '*'\n",
    "  http:\n",
    "  - match:\n",
    "    - uri:\n",
    "        exact: /\n",
    "    - uri:\n",
    "        prefix: /cart\n",
    "    - uri:\n",
    "        prefix: /product\n",
    "    - uri:\n",
    "        exact: /setCurrency\n",
    "    - uri:\n",
    "        prefix: /static\n",
    "    route:\n",
    "    - destination:\n",
    "        host: frontend\n",
    "        port:\n",
    "          number: 80\n",
    "  - match:\n",
    "    - uri:\n",
    "        prefix: /tracking\n",
    "    route:\n",
    "    - destination:\n",
    "        host: shipping\n",
    "        port:\n",
    "          number: 8080\n",
    "    corsPolicy:\n",
    "      allowOrigin:\n",
    "      - \"*\"\n",
    "      allowMethods:\n",
    "      - GET\n",
    "      - POST\n",
    "      allowHeaders:\n",
    "      - content-type\n",
    "      - x-api-key\n",
    "      allowCredentials: true\n",
    "\n",
    "EOF"
   ]
  },
  {
   "cell_type": "markdown",
   "metadata": {},
   "source": [
    "---\n",
    "## Access the API"
   ]
  },
  {
   "cell_type": "code",
   "execution_count": null,
   "metadata": {},
   "outputs": [],
   "source": [
    "!curl $ingress/tracking/1 | jq ."
   ]
  },
  {
   "cell_type": "markdown",
   "metadata": {},
   "source": [
    "---\n",
    "## Wire up Apigee\n",
    "\n",
    "The following configures how Istio passes data to the Apigee adapter."
   ]
  },
  {
   "cell_type": "code",
   "execution_count": null,
   "metadata": {},
   "outputs": [],
   "source": [
    "%%bash\n",
    "cat <<EOF | $kubectl apply -f -\n",
    "\n",
    "# instance configuration for template 'apigee.analytics'\n",
    "apiVersion: config.istio.io/v1alpha2\n",
    "kind: analytics\n",
    "metadata:\n",
    "  name: apigee\n",
    "  namespace: istio-system\n",
    "spec:\n",
    "  api_key: request.api_key | request.headers[\"x-api-key\"] | \"\"\n",
    "  api_proxy: api.service | destination.service.host | \"\"\n",
    "  response_status_code: response.code | 0\n",
    "  client_ip: source.ip | ip(\"0.0.0.0\")\n",
    "  request_verb: request.method | \"\"\n",
    "  request_uri: request.path | \"\"\n",
    "  useragent: request.useragent | \"\"\n",
    "  client_received_start_timestamp: request.time\n",
    "  client_received_end_timestamp: request.time\n",
    "  target_sent_start_timestamp: request.time\n",
    "  target_sent_end_timestamp: request.time\n",
    "  target_received_start_timestamp: response.time\n",
    "  target_received_end_timestamp: response.time\n",
    "  client_sent_start_timestamp: response.time\n",
    "  client_sent_end_timestamp: response.time\n",
    "  api_claims: # from jwt\n",
    "    json_claims: request.auth.raw_claims | \"\"\n",
    "---\n",
    "\n",
    "# instance configuration for template 'apigee.authorization'\n",
    "apiVersion: config.istio.io/v1alpha2\n",
    "kind: authorization\n",
    "metadata:\n",
    "  name: apigee\n",
    "  namespace: istio-system\n",
    "spec:\n",
    "  subject:\n",
    "    user: \"\"\n",
    "    groups: \"\"\n",
    "    properties:\n",
    "      api_key: request.api_key | request.headers[\"x-api-key\"] | \"\"\n",
    "      json_claims: request.auth.raw_claims | \"\"\n",
    "  action:\n",
    "    namespace: destination.namespace | \"default\"\n",
    "    service: api.service | destination.service.host | \"\"\n",
    "    path: api.operation | request.path | \"\"\n",
    "    method: request.method | \"\"\n",
    "\n",
    "EOF"
   ]
  },
  {
   "cell_type": "markdown",
   "metadata": {},
   "source": [
    "---\n",
    "## Analytics Rule\n",
    "\n",
    "This lets Istio know that we want to send all Istio telemetry to Apigee via the adapter."
   ]
  },
  {
   "cell_type": "code",
   "execution_count": null,
   "metadata": {},
   "outputs": [],
   "source": [
    "%%bash\n",
    "cat <<EOF | $kubectl apply -f -\n",
    "\n",
    "apiVersion: config.istio.io/v1alpha2\n",
    "kind: rule\n",
    "metadata:\n",
    "  name: apigee-analytics\n",
    "  namespace: istio-system\n",
    "spec:\n",
    "  match: context.reporter.kind == \"inbound\"\n",
    "  actions:\n",
    "  - handler: apigee-handler.apigee.istio-system\n",
    "    instances:\n",
    "    - apigee.analytics\n",
    "\n",
    "EOF"
   ]
  },
  {
   "cell_type": "markdown",
   "metadata": {},
   "source": [
    "## Analytics Reporting\n",
    "\n",
    "Now we have analytics coming from our Istio services.\n",
    "\n",
    "https://apigee.com/platform/emea-poc15/devices"
   ]
  },
  {
   "cell_type": "markdown",
   "metadata": {},
   "source": [
    "---\n",
    "## Apigee API Product\n",
    "\n",
    "An API Product is how I will expose the API to developers.\n",
    "\n",
    "https://apigee.com/platform/emea-poc15/products/Tracking%20Details"
   ]
  },
  {
   "cell_type": "markdown",
   "metadata": {},
   "source": [
    "---\n",
    "## Protect the API with an API Key"
   ]
  },
  {
   "cell_type": "code",
   "execution_count": null,
   "metadata": {},
   "outputs": [],
   "source": [
    "%%bash\n",
    "cat <<EOF | $kubectl apply -f -\n",
    "\n",
    "apiVersion: config.istio.io/v1alpha2\n",
    "kind: rule\n",
    "metadata:\n",
    "  name: apigee-authorization\n",
    "  namespace: istio-system\n",
    "spec:\n",
    "  match: context.reporter.kind == \"inbound\" && destination.service.name == \"shipping\"\n",
    "  actions:\n",
    "  - handler: apigee-handler.apigee.istio-system\n",
    "    instances:\n",
    "    - apigee.authorization\n",
    "\n",
    "EOF"
   ]
  },
  {
   "cell_type": "markdown",
   "metadata": {},
   "source": [
    "---\n",
    "## Create an App to access the API Product\n",
    "\n",
    "The Developer Portal lets our developers create their own Apps to access protected API Product.\n",
    "\n",
    "https://emea-poc15-fazioapiportal.apigee.io/"
   ]
  },
  {
   "cell_type": "markdown",
   "metadata": {},
   "source": [
    "--- \n",
    "## Now we have an API Key .. Let's try hitting the api one more time with the key"
   ]
  },
  {
   "cell_type": "markdown",
   "metadata": {},
   "source": [
    "---\n",
    "### Check the result"
   ]
  },
  {
   "cell_type": "code",
   "execution_count": null,
   "metadata": {},
   "outputs": [],
   "source": [
    "!curl http://$ingress/tracking/123 -H \"x-api-key: TiZKngjgrJxHqCRblIGvQgaKSvZihfGR\" | jq ."
   ]
  },
  {
   "cell_type": "markdown",
   "metadata": {},
   "source": [
    "---\n",
    "## Rollback APIKey protection"
   ]
  },
  {
   "cell_type": "code",
   "execution_count": null,
   "metadata": {},
   "outputs": [],
   "source": [
    "%%bash\n",
    "cat <<EOF | $kubectl apply -f -\n",
    "\n",
    "apiVersion: config.istio.io/v1alpha2\n",
    "kind: rule\n",
    "metadata:\n",
    "  name: apigee-authorization\n",
    "  namespace: istio-system\n",
    "spec:\n",
    "  match: context.reporter.kind == \"inbound\" && destination.service.name == \"shipping\"\n",
    "  actions:\n",
    "  - handler: apigee-handler.apigee.istio-system\n",
    "    instances:\n",
    "\n",
    "EOF"
   ]
  },
  {
   "cell_type": "code",
   "execution_count": null,
   "metadata": {},
   "outputs": [],
   "source": [
    "!curl http://$ingress/tracking/123 -H \"x-api-key: TiZKngjgrJxHqCRblIGvQgaKSvZihfGR\" | jq ."
   ]
  },
  {
   "cell_type": "code",
   "execution_count": null,
   "metadata": {},
   "outputs": [],
   "source": []
  },
  {
   "cell_type": "code",
   "execution_count": null,
   "metadata": {},
   "outputs": [],
   "source": []
  }
 ],
 "metadata": {
  "kernelspec": {
   "display_name": "Python 3",
   "language": "python",
   "name": "python3"
  },
  "language_info": {
   "codemirror_mode": {
    "name": "ipython",
    "version": 3
   },
   "file_extension": ".py",
   "mimetype": "text/x-python",
   "name": "python",
   "nbconvert_exporter": "python",
   "pygments_lexer": "ipython3",
   "version": "3.6.4"
  }
 },
 "nbformat": 4,
 "nbformat_minor": 2
}
